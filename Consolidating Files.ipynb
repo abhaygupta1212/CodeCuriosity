{
 "cells": [
  {
   "cell_type": "code",
   "execution_count": 49,
   "id": "1e5ff5d9",
   "metadata": {},
   "outputs": [],
   "source": [
    "import os\n",
    "import shutil"
   ]
  },
  {
   "cell_type": "code",
   "execution_count": 50,
   "id": "63a3ffb2",
   "metadata": {},
   "outputs": [],
   "source": [
    "os.mkdir(\"Clients\")"
   ]
  },
  {
   "cell_type": "code",
   "execution_count": 51,
   "id": "06649a84",
   "metadata": {},
   "outputs": [],
   "source": [
    "def copy(folder):\n",
    "    for file in os.listdir(os.path.join(os.getcwd(), folder)):\n",
    "        source_file = os.path.join(os.getcwd(), folder, file)\n",
    "        dest_file = os.path.join(os.getcwd(), \"Clients\", file.split(\".\")[0], f\"{folder}.xlsx\")\n",
    "\n",
    "        try:\n",
    "            os.mkdir(os.path.join(os.getcwd(), \"Clients\", file.split(\".\")[0]))\n",
    "        except:\n",
    "            pass\n",
    "\n",
    "        shutil.copy(source_file, dest_file)             \n",
    "    "
   ]
  },
  {
   "cell_type": "code",
   "execution_count": 52,
   "id": "5c7e2211",
   "metadata": {},
   "outputs": [],
   "source": [
    "copy(\"Balance Sheet\")"
   ]
  },
  {
   "cell_type": "code",
   "execution_count": 53,
   "id": "7049f4aa",
   "metadata": {},
   "outputs": [],
   "source": [
    "copy(\"Tax Computation\")"
   ]
  },
  {
   "cell_type": "code",
   "execution_count": null,
   "id": "7db185b1",
   "metadata": {},
   "outputs": [],
   "source": []
  }
 ],
 "metadata": {
  "kernelspec": {
   "display_name": "Python 3 (ipykernel)",
   "language": "python",
   "name": "python3"
  },
  "language_info": {
   "codemirror_mode": {
    "name": "ipython",
    "version": 3
   },
   "file_extension": ".py",
   "mimetype": "text/x-python",
   "name": "python",
   "nbconvert_exporter": "python",
   "pygments_lexer": "ipython3",
   "version": "3.9.13"
  }
 },
 "nbformat": 4,
 "nbformat_minor": 5
}
